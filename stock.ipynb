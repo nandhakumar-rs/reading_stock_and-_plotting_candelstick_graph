{
 "cells": [
  {
   "cell_type": "code",
   "execution_count": 5,
   "metadata": {},
   "outputs": [],
   "source": [
    "import pandas\n",
    "\n",
    "from pandas_datareader import data\n",
    "import datetime\n",
    "\n",
    "start = datetime.datetime(2017,1,1)\n",
    "end = datetime.datetime(2017,6,20)\n",
    "df = data.DataReader(name=\"GOOG\",data_source=\"google\",start=start,end=end)\n",
    "\n",
    "\n",
    "\n",
    "from bokeh.plotting import figure, show, output_file\n",
    "from bokeh.embed import components\n",
    "from bokeh.resources import CDN\n",
    "def inc_dec(c,o):\n",
    "    if c > o:\n",
    "        value = \"Decrease\"\n",
    "    elif o > c:\n",
    "        value = \"Increase\"\n",
    "    else:\n",
    "        value = \"Equal\"\n",
    "    return value\n",
    "df[\"status\"] = [inc_dec(c,o) for c,o in zip(df.Close,df.Open)]\n",
    "df[\"Middle\"] = (df.Open + df.Close)/2    \n",
    "df[\"Height\"] = abs(df.Open - df.Close)\n",
    "\n",
    "p = figure(width=700,height=300,title=\"stock\",x_axis_type=\"datetime\",responsive = True)\n",
    "p.grid.grid_line_alpha=0\n",
    "\n",
    "hours = 12*60*60*1000\n",
    "# p.rect(df.index[df.Open>df.Close],(df.Open+df.Close)/2,hours,abs(df.Open - df.Close),color=\"green\")\n",
    "# p.rect(df.index[df.Open<df.Close],(df.Open+df.Close)/2,hours,abs(df.Open - df.Close),color=\"red\")\n",
    "p.segment(df.index,df.High,df.index,df.Low,color=\"black\")\n",
    "p.rect(df.index[df.status == \"Increase\"],df.Middle[df.status == \"Increase\"],hours,df.Height[df.status == \"Increase\"],line_color = \"black\",color=\"green\")\n",
    "p.rect(df.index[df.status == \"Decrease\"],df.Middle[df.status == \"Decrease\"],hours,df.Height[df.status == \"Decrease\"],line_color = \"black\",color=\"red\")\n",
    "script,div = components(p)\n",
    "js_file=CDN.js_files\n",
    "css_file=CDN.css_files\n",
    "output_file(\"testing.html\")\n",
    "show(p)"
   ]
  },
  {
   "cell_type": "code",
   "execution_count": 4,
   "metadata": {},
   "outputs": [
    {
     "data": {
      "text/plain": [
       "['https://cdn.pydata.org/bokeh/release/bokeh-0.12.5.min.css',\n",
       " 'https://cdn.pydata.org/bokeh/release/bokeh-widgets-0.12.5.min.css']"
      ]
     },
     "execution_count": 4,
     "metadata": {},
     "output_type": "execute_result"
    }
   ],
   "source": [
    "css_file"
   ]
  },
  {
   "cell_type": "code",
   "execution_count": null,
   "metadata": {
    "collapsed": true
   },
   "outputs": [],
   "source": []
  }
 ],
 "metadata": {
  "kernelspec": {
   "display_name": "Python 3",
   "language": "python",
   "name": "python3"
  },
  "language_info": {
   "codemirror_mode": {
    "name": "ipython",
    "version": 3
   },
   "file_extension": ".py",
   "mimetype": "text/x-python",
   "name": "python",
   "nbconvert_exporter": "python",
   "pygments_lexer": "ipython3",
   "version": "3.6.1"
  }
 },
 "nbformat": 4,
 "nbformat_minor": 2
}
